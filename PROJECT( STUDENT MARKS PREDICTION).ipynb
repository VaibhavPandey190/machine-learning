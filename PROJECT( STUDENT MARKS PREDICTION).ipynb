{
 "cells": [
  {
   "cell_type": "code",
   "execution_count": 1,
   "metadata": {
    "colab": {},
    "colab_type": "code",
    "id": "WS0puKznYrbb"
   },
   "outputs": [],
   "source": [
    "#Import libraries\n",
    "import numpy as np\n",
    "import pandas as pd\n",
    "import matplotlib.pyplot as plt"
   ]
  },
  {
   "cell_type": "markdown",
   "metadata": {
    "colab_type": "text",
    "id": "mmgkP6sKZfhD"
   },
   "source": [
    "# Load Dataset"
   ]
  },
  {
   "cell_type": "code",
   "execution_count": 3,
   "metadata": {
    "colab": {},
    "colab_type": "code",
    "id": "-fAN8yoEZi3B"
   },
   "outputs": [],
   "source": [
    "\n",
    "df  = pd.read_csv(\"student_info.csv\")"
   ]
  },
  {
   "cell_type": "code",
   "execution_count": 4,
   "metadata": {
    "colab": {
     "base_uri": "https://localhost:8080/",
     "height": 198
    },
    "colab_type": "code",
    "executionInfo": {
     "elapsed": 3245,
     "status": "ok",
     "timestamp": 1591639758937,
     "user": {
      "displayName": "Indian AI Production",
      "photoUrl": "https://lh3.googleusercontent.com/a-/AOh14Gj3ZvzF_5wYrhSUbb_fejZZI0SOJB4k_MnwL_ZT=s64",
      "userId": "18422374217311601843"
     },
     "user_tz": -330
    },
    "id": "zouaV_GmaGmq",
    "outputId": "8cd48c0b-8ea4-4524-a2c2-1dc7371e6bb8"
   },
   "outputs": [
    {
     "data": {
      "text/html": [
       "<div>\n",
       "<style scoped>\n",
       "    .dataframe tbody tr th:only-of-type {\n",
       "        vertical-align: middle;\n",
       "    }\n",
       "\n",
       "    .dataframe tbody tr th {\n",
       "        vertical-align: top;\n",
       "    }\n",
       "\n",
       "    .dataframe thead th {\n",
       "        text-align: right;\n",
       "    }\n",
       "</style>\n",
       "<table border=\"1\" class=\"dataframe\">\n",
       "  <thead>\n",
       "    <tr style=\"text-align: right;\">\n",
       "      <th></th>\n",
       "      <th>study_hours</th>\n",
       "      <th>student_marks</th>\n",
       "    </tr>\n",
       "  </thead>\n",
       "  <tbody>\n",
       "    <tr>\n",
       "      <th>0</th>\n",
       "      <td>6.83</td>\n",
       "      <td>78.50</td>\n",
       "    </tr>\n",
       "    <tr>\n",
       "      <th>1</th>\n",
       "      <td>6.56</td>\n",
       "      <td>76.74</td>\n",
       "    </tr>\n",
       "    <tr>\n",
       "      <th>2</th>\n",
       "      <td>NaN</td>\n",
       "      <td>78.68</td>\n",
       "    </tr>\n",
       "    <tr>\n",
       "      <th>3</th>\n",
       "      <td>5.67</td>\n",
       "      <td>71.82</td>\n",
       "    </tr>\n",
       "    <tr>\n",
       "      <th>4</th>\n",
       "      <td>8.67</td>\n",
       "      <td>84.19</td>\n",
       "    </tr>\n",
       "  </tbody>\n",
       "</table>\n",
       "</div>"
      ],
      "text/plain": [
       "   study_hours  student_marks\n",
       "0         6.83          78.50\n",
       "1         6.56          76.74\n",
       "2          NaN          78.68\n",
       "3         5.67          71.82\n",
       "4         8.67          84.19"
      ]
     },
     "execution_count": 4,
     "metadata": {},
     "output_type": "execute_result"
    }
   ],
   "source": [
    "df.head()"
   ]
  },
  {
   "cell_type": "code",
   "execution_count": 5,
   "metadata": {
    "colab": {
     "base_uri": "https://localhost:8080/",
     "height": 198
    },
    "colab_type": "code",
    "executionInfo": {
     "elapsed": 3216,
     "status": "ok",
     "timestamp": 1591639758940,
     "user": {
      "displayName": "Indian AI Production",
      "photoUrl": "https://lh3.googleusercontent.com/a-/AOh14Gj3ZvzF_5wYrhSUbb_fejZZI0SOJB4k_MnwL_ZT=s64",
      "userId": "18422374217311601843"
     },
     "user_tz": -330
    },
    "id": "SaOb76vLaOEC",
    "outputId": "ad3e5f2a-4495-40db-8908-0cb4a83d81d2"
   },
   "outputs": [
    {
     "data": {
      "text/html": [
       "<div>\n",
       "<style scoped>\n",
       "    .dataframe tbody tr th:only-of-type {\n",
       "        vertical-align: middle;\n",
       "    }\n",
       "\n",
       "    .dataframe tbody tr th {\n",
       "        vertical-align: top;\n",
       "    }\n",
       "\n",
       "    .dataframe thead th {\n",
       "        text-align: right;\n",
       "    }\n",
       "</style>\n",
       "<table border=\"1\" class=\"dataframe\">\n",
       "  <thead>\n",
       "    <tr style=\"text-align: right;\">\n",
       "      <th></th>\n",
       "      <th>study_hours</th>\n",
       "      <th>student_marks</th>\n",
       "    </tr>\n",
       "  </thead>\n",
       "  <tbody>\n",
       "    <tr>\n",
       "      <th>195</th>\n",
       "      <td>7.53</td>\n",
       "      <td>81.67</td>\n",
       "    </tr>\n",
       "    <tr>\n",
       "      <th>196</th>\n",
       "      <td>8.56</td>\n",
       "      <td>84.68</td>\n",
       "    </tr>\n",
       "    <tr>\n",
       "      <th>197</th>\n",
       "      <td>8.94</td>\n",
       "      <td>86.75</td>\n",
       "    </tr>\n",
       "    <tr>\n",
       "      <th>198</th>\n",
       "      <td>6.60</td>\n",
       "      <td>78.05</td>\n",
       "    </tr>\n",
       "    <tr>\n",
       "      <th>199</th>\n",
       "      <td>8.35</td>\n",
       "      <td>83.50</td>\n",
       "    </tr>\n",
       "  </tbody>\n",
       "</table>\n",
       "</div>"
      ],
      "text/plain": [
       "     study_hours  student_marks\n",
       "195         7.53          81.67\n",
       "196         8.56          84.68\n",
       "197         8.94          86.75\n",
       "198         6.60          78.05\n",
       "199         8.35          83.50"
      ]
     },
     "execution_count": 5,
     "metadata": {},
     "output_type": "execute_result"
    }
   ],
   "source": [
    "df.tail()"
   ]
  },
  {
   "cell_type": "code",
   "execution_count": 6,
   "metadata": {
    "colab": {
     "base_uri": "https://localhost:8080/",
     "height": 35
    },
    "colab_type": "code",
    "executionInfo": {
     "elapsed": 3185,
     "status": "ok",
     "timestamp": 1591639758942,
     "user": {
      "displayName": "Indian AI Production",
      "photoUrl": "https://lh3.googleusercontent.com/a-/AOh14Gj3ZvzF_5wYrhSUbb_fejZZI0SOJB4k_MnwL_ZT=s64",
      "userId": "18422374217311601843"
     },
     "user_tz": -330
    },
    "id": "iPHxrrTyar65",
    "outputId": "cc445546-335e-43e1-8ef7-8ad5e14cf26e"
   },
   "outputs": [
    {
     "data": {
      "text/plain": [
       "(200, 2)"
      ]
     },
     "execution_count": 6,
     "metadata": {},
     "output_type": "execute_result"
    }
   ],
   "source": [
    "df.shape"
   ]
  },
  {
   "cell_type": "markdown",
   "metadata": {
    "colab_type": "text",
    "id": "_oFCu0V9bJUk"
   },
   "source": [
    "## Discover and visualize the data to gain insights"
   ]
  },
  {
   "cell_type": "code",
   "execution_count": 7,
   "metadata": {
    "colab": {
     "base_uri": "https://localhost:8080/",
     "height": 181
    },
    "colab_type": "code",
    "executionInfo": {
     "elapsed": 3162,
     "status": "ok",
     "timestamp": 1591639758945,
     "user": {
      "displayName": "Indian AI Production",
      "photoUrl": "https://lh3.googleusercontent.com/a-/AOh14Gj3ZvzF_5wYrhSUbb_fejZZI0SOJB4k_MnwL_ZT=s64",
      "userId": "18422374217311601843"
     },
     "user_tz": -330
    },
    "id": "O5pGpQIJazNy",
    "outputId": "8b4c7c4d-681b-4f58-c66a-0bf389806fe7"
   },
   "outputs": [
    {
     "name": "stdout",
     "output_type": "stream",
     "text": [
      "<class 'pandas.core.frame.DataFrame'>\n",
      "RangeIndex: 200 entries, 0 to 199\n",
      "Data columns (total 2 columns):\n",
      "study_hours      195 non-null float64\n",
      "student_marks    200 non-null float64\n",
      "dtypes: float64(2)\n",
      "memory usage: 3.2 KB\n"
     ]
    }
   ],
   "source": [
    "df.info()"
   ]
  },
  {
   "cell_type": "code",
   "execution_count": 8,
   "metadata": {
    "colab": {
     "base_uri": "https://localhost:8080/",
     "height": 288
    },
    "colab_type": "code",
    "executionInfo": {
     "elapsed": 3139,
     "status": "ok",
     "timestamp": 1591639758947,
     "user": {
      "displayName": "Indian AI Production",
      "photoUrl": "https://lh3.googleusercontent.com/a-/AOh14Gj3ZvzF_5wYrhSUbb_fejZZI0SOJB4k_MnwL_ZT=s64",
      "userId": "18422374217311601843"
     },
     "user_tz": -330
    },
    "id": "JhpHlRDMbXEm",
    "outputId": "7fcadbc3-7c78-48bd-b7fa-101460d662df"
   },
   "outputs": [
    {
     "data": {
      "text/html": [
       "<div>\n",
       "<style scoped>\n",
       "    .dataframe tbody tr th:only-of-type {\n",
       "        vertical-align: middle;\n",
       "    }\n",
       "\n",
       "    .dataframe tbody tr th {\n",
       "        vertical-align: top;\n",
       "    }\n",
       "\n",
       "    .dataframe thead th {\n",
       "        text-align: right;\n",
       "    }\n",
       "</style>\n",
       "<table border=\"1\" class=\"dataframe\">\n",
       "  <thead>\n",
       "    <tr style=\"text-align: right;\">\n",
       "      <th></th>\n",
       "      <th>study_hours</th>\n",
       "      <th>student_marks</th>\n",
       "    </tr>\n",
       "  </thead>\n",
       "  <tbody>\n",
       "    <tr>\n",
       "      <th>count</th>\n",
       "      <td>195.000000</td>\n",
       "      <td>200.00000</td>\n",
       "    </tr>\n",
       "    <tr>\n",
       "      <th>mean</th>\n",
       "      <td>6.995949</td>\n",
       "      <td>77.93375</td>\n",
       "    </tr>\n",
       "    <tr>\n",
       "      <th>std</th>\n",
       "      <td>1.253060</td>\n",
       "      <td>4.92570</td>\n",
       "    </tr>\n",
       "    <tr>\n",
       "      <th>min</th>\n",
       "      <td>5.010000</td>\n",
       "      <td>68.57000</td>\n",
       "    </tr>\n",
       "    <tr>\n",
       "      <th>25%</th>\n",
       "      <td>5.775000</td>\n",
       "      <td>73.38500</td>\n",
       "    </tr>\n",
       "    <tr>\n",
       "      <th>50%</th>\n",
       "      <td>7.120000</td>\n",
       "      <td>77.71000</td>\n",
       "    </tr>\n",
       "    <tr>\n",
       "      <th>75%</th>\n",
       "      <td>8.085000</td>\n",
       "      <td>82.32000</td>\n",
       "    </tr>\n",
       "    <tr>\n",
       "      <th>max</th>\n",
       "      <td>8.990000</td>\n",
       "      <td>86.99000</td>\n",
       "    </tr>\n",
       "  </tbody>\n",
       "</table>\n",
       "</div>"
      ],
      "text/plain": [
       "       study_hours  student_marks\n",
       "count   195.000000      200.00000\n",
       "mean      6.995949       77.93375\n",
       "std       1.253060        4.92570\n",
       "min       5.010000       68.57000\n",
       "25%       5.775000       73.38500\n",
       "50%       7.120000       77.71000\n",
       "75%       8.085000       82.32000\n",
       "max       8.990000       86.99000"
      ]
     },
     "execution_count": 8,
     "metadata": {},
     "output_type": "execute_result"
    }
   ],
   "source": [
    "df.describe()"
   ]
  },
  {
   "cell_type": "code",
   "execution_count": 9,
   "metadata": {
    "colab": {
     "base_uri": "https://localhost:8080/",
     "height": 295
    },
    "colab_type": "code",
    "executionInfo": {
     "elapsed": 4020,
     "status": "ok",
     "timestamp": 1591639759876,
     "user": {
      "displayName": "Indian AI Production",
      "photoUrl": "https://lh3.googleusercontent.com/a-/AOh14Gj3ZvzF_5wYrhSUbb_fejZZI0SOJB4k_MnwL_ZT=s64",
      "userId": "18422374217311601843"
     },
     "user_tz": -330
    },
    "id": "BnPeWCuzb3p4",
    "outputId": "066d209c-354c-43b0-c2be-4db488318bde"
   },
   "outputs": [
    {
     "data": {
      "image/png": "[encoded data removed]",
      "text/plain": [
       "<Figure size 432x288 with 1 Axes>"
      ]
     },
     "metadata": {
      "needs_background": "light"
     },
     "output_type": "display_data"
    }
   ],
   "source": [
    "plt.scatter(x =df.study_hours, y = df.student_marks)\n",
    "plt.xlabel(\"Students Study Hours\")\n",
    "plt.ylabel(\"Students marks\")\n",
    "plt.title(\"Scatter Plot of Students Study Hours vs Students marks\")\n",
    "plt.show()"
   ]
  },
  {
   "cell_type": "markdown",
   "metadata": {
    "colab_type": "text",
    "id": "nIKXoXc2dO_t"
   },
   "source": [
    "## Prepare the data for Machine Learning algorithms "
   ]
  },
  {
   "cell_type": "code",
   "execution_count": 10,
   "metadata": {
    "colab": {},
    "colab_type": "code",
    "id": "btJR8iIUc5Yk"
   },
   "outputs": [],
   "source": [
    "# Data Cleaning"
   ]
  },
  {
   "cell_type": "code",
   "execution_count": 11,
   "metadata": {
    "colab": {
     "base_uri": "https://localhost:8080/",
     "height": 72
    },
    "colab_type": "code",
    "executionInfo": {
     "elapsed": 3979,
     "status": "ok",
     "timestamp": 1591639759879,
     "user": {
      "displayName": "Indian AI Production",
      "photoUrl": "https://lh3.googleusercontent.com/a-/AOh14Gj3ZvzF_5wYrhSUbb_fejZZI0SOJB4k_MnwL_ZT=s64",
      "userId": "18422374217311601843"
     },
     "user_tz": -330
    },
    "id": "JqGacr14dbHv",
    "outputId": "9fed684b-21a5-402a-ba99-4448609e5f1d"
   },
   "outputs": [
    {
     "data": {
      "text/plain": [
       "study_hours      5\n",
       "student_marks    0\n",
       "dtype: int64"
      ]
     },
     "execution_count": 11,
     "metadata": {},
     "output_type": "execute_result"
    }
   ],
   "source": [
    "df.isnull().sum()"
   ]
  },
  {
   "cell_type": "code",
   "execution_count": 12,
   "metadata": {
    "colab": {
     "base_uri": "https://localhost:8080/",
     "height": 72
    },
    "colab_type": "code",
    "executionInfo": {
     "elapsed": 3941,
     "status": "ok",
     "timestamp": 1591639759881,
     "user": {
      "displayName": "Indian AI Production",
      "photoUrl": "https://lh3.googleusercontent.com/a-/AOh14Gj3ZvzF_5wYrhSUbb_fejZZI0SOJB4k_MnwL_ZT=s64",
      "userId": "18422374217311601843"
     },
     "user_tz": -330
    },
    "id": "XVXS0f4ldiPS",
    "outputId": "8203bd5c-127b-4339-cdc0-58723378a8df"
   },
   "outputs": [
    {
     "data": {
      "text/plain": [
       "study_hours       6.995949\n",
       "student_marks    77.933750\n",
       "dtype: float64"
      ]
     },
     "execution_count": 12,
     "metadata": {},
     "output_type": "execute_result"
    }
   ],
   "source": [
    "df.mean()"
   ]
  },
  {
   "cell_type": "code",
   "execution_count": 13,
   "metadata": {
    "colab": {},
    "colab_type": "code",
    "id": "76MxlNMEd9zI"
   },
   "outputs": [],
   "source": [
    "df2 = df.fillna(df.mean())"
   ]
  },
  {
   "cell_type": "code",
   "execution_count": 14,
   "metadata": {
    "colab": {
     "base_uri": "https://localhost:8080/",
     "height": 72
    },
    "colab_type": "code",
    "executionInfo": {
     "elapsed": 3895,
     "status": "ok",
     "timestamp": 1591639759885,
     "user": {
      "displayName": "Indian AI Production",
      "photoUrl": "https://lh3.googleusercontent.com/a-/AOh14Gj3ZvzF_5wYrhSUbb_fejZZI0SOJB4k_MnwL_ZT=s64",
      "userId": "18422374217311601843"
     },
     "user_tz": -330
    },
    "id": "bcEM6aHpeQk7",
    "outputId": "9985e23d-7c3a-4517-b5c6-ef16fed3900d"
   },
   "outputs": [
    {
     "data": {
      "text/plain": [
       "study_hours      0\n",
       "student_marks    0\n",
       "dtype: int64"
      ]
     },
     "execution_count": 14,
     "metadata": {},
     "output_type": "execute_result"
    }
   ],
   "source": [
    "df2.isnull().sum()"
   ]
  },
  {
   "cell_type": "code",
   "execution_count": 15,
   "metadata": {
    "colab": {
     "base_uri": "https://localhost:8080/",
     "height": 198
    },
    "colab_type": "code",
    "executionInfo": {
     "elapsed": 3825,
     "status": "ok",
     "timestamp": 1591639759887,
     "user": {
      "displayName": "Indian AI Production",
      "photoUrl": "https://lh3.googleusercontent.com/a-/AOh14Gj3ZvzF_5wYrhSUbb_fejZZI0SOJB4k_MnwL_ZT=s64",
      "userId": "18422374217311601843"
     },
     "user_tz": -330
    },
    "id": "kE3aVJqteUK-",
    "outputId": "a761beaa-579c-4173-d2be-e313078af127"
   },
   "outputs": [
    {
     "data": {
      "text/html": [
       "<div>\n",
       "<style scoped>\n",
       "    .dataframe tbody tr th:only-of-type {\n",
       "        vertical-align: middle;\n",
       "    }\n",
       "\n",
       "    .dataframe tbody tr th {\n",
       "        vertical-align: top;\n",
       "    }\n",
       "\n",
       "    .dataframe thead th {\n",
       "        text-align: right;\n",
       "    }\n",
       "</style>\n",
       "<table border=\"1\" class=\"dataframe\">\n",
       "  <thead>\n",
       "    <tr style=\"text-align: right;\">\n",
       "      <th></th>\n",
       "      <th>study_hours</th>\n",
       "      <th>student_marks</th>\n",
       "    </tr>\n",
       "  </thead>\n",
       "  <tbody>\n",
       "    <tr>\n",
       "      <th>0</th>\n",
       "      <td>6.830000</td>\n",
       "      <td>78.50</td>\n",
       "    </tr>\n",
       "    <tr>\n",
       "      <th>1</th>\n",
       "      <td>6.560000</td>\n",
       "      <td>76.74</td>\n",
       "    </tr>\n",
       "    <tr>\n",
       "      <th>2</th>\n",
       "      <td>6.995949</td>\n",
       "      <td>78.68</td>\n",
       "    </tr>\n",
       "    <tr>\n",
       "      <th>3</th>\n",
       "      <td>5.670000</td>\n",
       "      <td>71.82</td>\n",
       "    </tr>\n",
       "    <tr>\n",
       "      <th>4</th>\n",
       "      <td>8.670000</td>\n",
       "      <td>84.19</td>\n",
       "    </tr>\n",
       "  </tbody>\n",
       "</table>\n",
       "</div>"
      ],
      "text/plain": [
       "   study_hours  student_marks\n",
       "0     6.830000          78.50\n",
       "1     6.560000          76.74\n",
       "2     6.995949          78.68\n",
       "3     5.670000          71.82\n",
       "4     8.670000          84.19"
      ]
     },
     "execution_count": 15,
     "metadata": {},
     "output_type": "execute_result"
    }
   ],
   "source": [
    "df2.head()"
   ]
  },
  {
   "cell_type": "code",
   "execution_count": 16,
   "metadata": {
    "colab": {},
    "colab_type": "code",
    "id": "4qvC8mY-eZGQ"
   },
   "outputs": [],
   "source": [
    "# split dataset"
   ]
  },
  {
   "cell_type": "code",
   "execution_count": 17,
   "metadata": {
    "colab": {
     "base_uri": "https://localhost:8080/",
     "height": 54
    },
    "colab_type": "code",
    "executionInfo": {
     "elapsed": 3744,
     "status": "ok",
     "timestamp": 1591639759889,
     "user": {
      "displayName": "Indian AI Production",
      "photoUrl": "https://lh3.googleusercontent.com/a-/AOh14Gj3ZvzF_5wYrhSUbb_fejZZI0SOJB4k_MnwL_ZT=s64",
      "userId": "18422374217311601843"
     },
     "user_tz": -330
    },
    "id": "-hXEvqB_ervH",
    "outputId": "fc2dad61-9f3e-4284-bfc4-f8095aebdb03"
   },
   "outputs": [
    {
     "name": "stdout",
     "output_type": "stream",
     "text": [
      "shape of X =  (200, 1)\n",
      "shape of y =  (200, 1)\n"
     ]
    }
   ],
   "source": [
    "X = df2.drop(\"student_marks\", axis = \"columns\")\n",
    "y = df2.drop(\"study_hours\", axis = \"columns\")\n",
    "print(\"shape of X = \", X.shape)\n",
    "print(\"shape of y = \", y.shape)"
   ]
  },
  {
   "cell_type": "code",
   "execution_count": 18,
   "metadata": {
    "colab": {
     "base_uri": "https://localhost:8080/",
     "height": 90
    },
    "colab_type": "code",
    "executionInfo": {
     "elapsed": 3724,
     "status": "ok",
     "timestamp": 1591639759890,
     "user": {
      "displayName": "Indian AI Production",
      "photoUrl": "https://lh3.googleusercontent.com/a-/AOh14Gj3ZvzF_5wYrhSUbb_fejZZI0SOJB4k_MnwL_ZT=s64",
      "userId": "18422374217311601843"
     },
     "user_tz": -330
    },
    "id": "_6ZIrQgsfTMT",
    "outputId": "9881f63d-7fcc-40a3-8327-acf829ccfb98"
   },
   "outputs": [
    {
     "name": "stdout",
     "output_type": "stream",
     "text": [
      "shape of X_train =  (160, 1)\n",
      "shape of y_train =  (160, 1)\n",
      "shape of X_test =  (40, 1)\n",
      "shape of y_test =  (40, 1)\n"
     ]
    }
   ],
   "source": [
    "from sklearn.model_selection import train_test_split\n",
    "X_train, X_test,y_train,y_test = train_test_split(X,y, test_size = 0.2, random_state=51)\n",
    "print(\"shape of X_train = \", X_train.shape)\n",
    "print(\"shape of y_train = \", y_train.shape)\n",
    "print(\"shape of X_test = \", X_test.shape)\n",
    "print(\"shape of y_test = \", y_test.shape)"
   ]
  },
  {
   "cell_type": "markdown",
   "metadata": {
    "colab_type": "text",
    "id": "1rNWhS0HhD-2"
   },
   "source": [
    "# Select a model and train it"
   ]
  },
  {
   "cell_type": "code",
   "execution_count": 19,
   "metadata": {
    "colab": {},
    "colab_type": "code",
    "id": "MVgWJHfjgxlJ"
   },
   "outputs": [],
   "source": [
    " # y = m * x + c\n",
    " from sklearn.linear_model import LinearRegression\n",
    " lr = LinearRegression()"
   ]
  },
  {
   "cell_type": "code",
   "execution_count": 20,
   "metadata": {
    "colab": {
     "base_uri": "https://localhost:8080/",
     "height": 35
    },
    "colab_type": "code",
    "executionInfo": {
     "elapsed": 4370,
     "status": "ok",
     "timestamp": 1591639760564,
     "user": {
      "displayName": "Indian AI Production",
      "photoUrl": "https://lh3.googleusercontent.com/a-/AOh14Gj3ZvzF_5wYrhSUbb_fejZZI0SOJB4k_MnwL_ZT=s64",
      "userId": "18422374217311601843"
     },
     "user_tz": -330
    },
    "id": "pfH2sdLaiLz_",
    "outputId": "b54697bc-6f58-4166-ad0f-6f4bedd69bc3"
   },
   "outputs": [
    {
     "data": {
      "text/plain": [
       "LinearRegression()"
      ]
     },
     "execution_count": 20,
     "metadata": {},
     "output_type": "execute_result"
    }
   ],
   "source": [
    "lr.fit(X_train,y_train)"
   ]
  },
  {
   "cell_type": "code",
   "execution_count": 21,
   "metadata": {
    "colab": {
     "base_uri": "https://localhost:8080/",
     "height": 35
    },
    "colab_type": "code",
    "executionInfo": {
     "elapsed": 4344,
     "status": "ok",
     "timestamp": 1591639760566,
     "user": {
      "displayName": "Indian AI Production",
      "photoUrl": "https://lh3.googleusercontent.com/a-/AOh14Gj3ZvzF_5wYrhSUbb_fejZZI0SOJB4k_MnwL_ZT=s64",
      "userId": "18422374217311601843"
     },
     "user_tz": -330
    },
    "id": "eBfxeIeEiaOB",
    "outputId": "8e9667ab-13f6-415c-da25-09f613fe75f5"
   },
   "outputs": [
    {
     "data": {
      "text/plain": [
       "array([[3.93571802]])"
      ]
     },
     "execution_count": 21,
     "metadata": {},
     "output_type": "execute_result"
    }
   ],
   "source": [
    "lr.coef_"
   ]
  },
  {
   "cell_type": "code",
   "execution_count": 22,
   "metadata": {
    "colab": {
     "base_uri": "https://localhost:8080/",
     "height": 35
    },
    "colab_type": "code",
    "executionInfo": {
     "elapsed": 4296,
     "status": "ok",
     "timestamp": 1591639760569,
     "user": {
      "displayName": "Indian AI Production",
      "photoUrl": "https://lh3.googleusercontent.com/a-/AOh14Gj3ZvzF_5wYrhSUbb_fejZZI0SOJB4k_MnwL_ZT=s64",
      "userId": "18422374217311601843"
     },
     "user_tz": -330
    },
    "id": "rtDBlJpVjLDj",
    "outputId": "9014781d-6838-4042-ca09-055f2efe680b"
   },
   "outputs": [
    {
     "data": {
      "text/plain": [
       "array([50.44735504])"
      ]
     },
     "execution_count": 22,
     "metadata": {},
     "output_type": "execute_result"
    }
   ],
   "source": [
    "lr.intercept_"
   ]
  },
  {
   "cell_type": "code",
   "execution_count": 23,
   "metadata": {
    "colab": {
     "base_uri": "https://localhost:8080/",
     "height": 35
    },
    "colab_type": "code",
    "executionInfo": {
     "elapsed": 4242,
     "status": "ok",
     "timestamp": 1591639760570,
     "user": {
      "displayName": "Indian AI Production",
      "photoUrl": "https://lh3.googleusercontent.com/a-/AOh14Gj3ZvzF_5wYrhSUbb_fejZZI0SOJB4k_MnwL_ZT=s64",
      "userId": "18422374217311601843"
     },
     "user_tz": -330
    },
    "id": "bm6MKaI1jR2s",
    "outputId": "1aa6ef13-c4fe-428d-c862-1fc38651e8ab"
   },
   "outputs": [
    {
     "data": {
      "text/plain": [
       "66.16"
      ]
     },
     "execution_count": 23,
     "metadata": {},
     "output_type": "execute_result"
    }
   ],
   "source": [
    "m = 3.93\n",
    "c = 50.44\n",
    "y  = m * 4 + c \n",
    "y"
   ]
  },
  {
   "cell_type": "code",
   "execution_count": 24,
   "metadata": {
    "colab": {
     "base_uri": "https://localhost:8080/",
     "height": 35
    },
    "colab_type": "code",
    "executionInfo": {
     "elapsed": 4214,
     "status": "ok",
     "timestamp": 1591639760572,
     "user": {
      "displayName": "Indian AI Production",
      "photoUrl": "https://lh3.googleusercontent.com/a-/AOh14Gj3ZvzF_5wYrhSUbb_fejZZI0SOJB4k_MnwL_ZT=s64",
      "userId": "18422374217311601843"
     },
     "user_tz": -330
    },
    "id": "1CZSt9CQjmHg",
    "outputId": "42901641-ea11-4004-88a1-3c6271f6da3e"
   },
   "outputs": [
    {
     "data": {
      "text/plain": [
       "66.19"
      ]
     },
     "execution_count": 24,
     "metadata": {},
     "output_type": "execute_result"
    }
   ],
   "source": [
    "lr.predict([[4]])[0][0].round(2)"
   ]
  },
  {
   "cell_type": "code",
   "execution_count": 25,
   "metadata": {
    "colab": {
     "base_uri": "https://localhost:8080/",
     "height": 745
    },
    "colab_type": "code",
    "executionInfo": {
     "elapsed": 4181,
     "status": "ok",
     "timestamp": 1591639760573,
     "user": {
      "displayName": "Indian AI Production",
      "photoUrl": "https://lh3.googleusercontent.com/a-/AOh14Gj3ZvzF_5wYrhSUbb_fejZZI0SOJB4k_MnwL_ZT=s64",
      "userId": "18422374217311601843"
     },
     "user_tz": -330
    },
    "id": "Ws6AmyL8jxKY",
    "outputId": "180afab5-de99-4021-90e9-24b03adf10ed"
   },
   "outputs": [
    {
     "data": {
      "text/plain": [
       "array([[83.11381458],\n",
       "       [78.9025963 ],\n",
       "       [84.57003024],\n",
       "       [85.82946001],\n",
       "       [84.72745896],\n",
       "       [80.75238377],\n",
       "       [72.84159055],\n",
       "       [71.66087515],\n",
       "       [73.23516235],\n",
       "       [71.66087515],\n",
       "       [73.47130543],\n",
       "       [76.38373677],\n",
       "       [73.23516235],\n",
       "       [73.58937697],\n",
       "       [82.95638585],\n",
       "       [70.40144538],\n",
       "       [73.23516235],\n",
       "       [78.74516758],\n",
       "       [75.55723598],\n",
       "       [82.68088559],\n",
       "       [76.65923703],\n",
       "       [70.48015974],\n",
       "       [74.77009238],\n",
       "       [77.98143645],\n",
       "       [85.59331693],\n",
       "       [82.56281405],\n",
       "       [76.42309395],\n",
       "       [85.0423164 ],\n",
       "       [78.39095296],\n",
       "       [81.38209865],\n",
       "       [81.73631327],\n",
       "       [83.15317176],\n",
       "       [82.20859943],\n",
       "       [81.10659839],\n",
       "       [73.58937697],\n",
       "       [71.1492318 ],\n",
       "       [71.89701823],\n",
       "       [81.53952737],\n",
       "       [72.60544747],\n",
       "       [71.93637541]])"
      ]
     },
     "execution_count": 25,
     "metadata": {},
     "output_type": "execute_result"
    }
   ],
   "source": [
    "y_pred  = lr.predict(X_test)\n",
    "y_pred"
   ]
  },
  {
   "cell_type": "code",
   "execution_count": 26,
   "metadata": {
    "colab": {
     "base_uri": "https://localhost:8080/",
     "height": 1000
    },
    "colab_type": "code",
    "executionInfo": {
     "elapsed": 4118,
     "status": "ok",
     "timestamp": 1591639760575,
     "user": {
      "displayName": "Indian AI Production",
      "photoUrl": "https://lh3.googleusercontent.com/a-/AOh14Gj3ZvzF_5wYrhSUbb_fejZZI0SOJB4k_MnwL_ZT=s64",
      "userId": "18422374217311601843"
     },
     "user_tz": -330
    },
    "id": "EoYmzFW-kRaz",
    "outputId": "ee65e4e2-e1b0-47a7-b7b6-ab517d6571f9"
   },
   "outputs": [
    {
     "data": {
      "text/html": [
       "<div>\n",
       "<style scoped>\n",
       "    .dataframe tbody tr th:only-of-type {\n",
       "        vertical-align: middle;\n",
       "    }\n",
       "\n",
       "    .dataframe tbody tr th {\n",
       "        vertical-align: top;\n",
       "    }\n",
       "\n",
       "    .dataframe thead th {\n",
       "        text-align: right;\n",
       "    }\n",
       "</style>\n",
       "<table border=\"1\" class=\"dataframe\">\n",
       "  <thead>\n",
       "    <tr style=\"text-align: right;\">\n",
       "      <th></th>\n",
       "      <th>study_hours</th>\n",
       "      <th>student_marks_original</th>\n",
       "      <th>student_marks_predicted</th>\n",
       "    </tr>\n",
       "  </thead>\n",
       "  <tbody>\n",
       "    <tr>\n",
       "      <th>0</th>\n",
       "      <td>8.300000</td>\n",
       "      <td>82.02</td>\n",
       "      <td>83.113815</td>\n",
       "    </tr>\n",
       "    <tr>\n",
       "      <th>1</th>\n",
       "      <td>7.230000</td>\n",
       "      <td>77.55</td>\n",
       "      <td>78.902596</td>\n",
       "    </tr>\n",
       "    <tr>\n",
       "      <th>2</th>\n",
       "      <td>8.670000</td>\n",
       "      <td>84.19</td>\n",
       "      <td>84.570030</td>\n",
       "    </tr>\n",
       "    <tr>\n",
       "      <th>3</th>\n",
       "      <td>8.990000</td>\n",
       "      <td>85.46</td>\n",
       "      <td>85.829460</td>\n",
       "    </tr>\n",
       "    <tr>\n",
       "      <th>4</th>\n",
       "      <td>8.710000</td>\n",
       "      <td>84.03</td>\n",
       "      <td>84.727459</td>\n",
       "    </tr>\n",
       "    <tr>\n",
       "      <th>5</th>\n",
       "      <td>7.700000</td>\n",
       "      <td>80.81</td>\n",
       "      <td>80.752384</td>\n",
       "    </tr>\n",
       "    <tr>\n",
       "      <th>6</th>\n",
       "      <td>5.690000</td>\n",
       "      <td>73.61</td>\n",
       "      <td>72.841591</td>\n",
       "    </tr>\n",
       "    <tr>\n",
       "      <th>7</th>\n",
       "      <td>5.390000</td>\n",
       "      <td>70.90</td>\n",
       "      <td>71.660875</td>\n",
       "    </tr>\n",
       "    <tr>\n",
       "      <th>8</th>\n",
       "      <td>5.790000</td>\n",
       "      <td>73.14</td>\n",
       "      <td>73.235162</td>\n",
       "    </tr>\n",
       "    <tr>\n",
       "      <th>9</th>\n",
       "      <td>5.390000</td>\n",
       "      <td>73.02</td>\n",
       "      <td>71.660875</td>\n",
       "    </tr>\n",
       "    <tr>\n",
       "      <th>10</th>\n",
       "      <td>5.850000</td>\n",
       "      <td>75.02</td>\n",
       "      <td>73.471305</td>\n",
       "    </tr>\n",
       "    <tr>\n",
       "      <th>11</th>\n",
       "      <td>6.590000</td>\n",
       "      <td>75.37</td>\n",
       "      <td>76.383737</td>\n",
       "    </tr>\n",
       "    <tr>\n",
       "      <th>12</th>\n",
       "      <td>5.790000</td>\n",
       "      <td>74.44</td>\n",
       "      <td>73.235162</td>\n",
       "    </tr>\n",
       "    <tr>\n",
       "      <th>13</th>\n",
       "      <td>5.880000</td>\n",
       "      <td>73.40</td>\n",
       "      <td>73.589377</td>\n",
       "    </tr>\n",
       "    <tr>\n",
       "      <th>14</th>\n",
       "      <td>8.260000</td>\n",
       "      <td>81.70</td>\n",
       "      <td>82.956386</td>\n",
       "    </tr>\n",
       "    <tr>\n",
       "      <th>15</th>\n",
       "      <td>5.070000</td>\n",
       "      <td>69.27</td>\n",
       "      <td>70.401445</td>\n",
       "    </tr>\n",
       "    <tr>\n",
       "      <th>16</th>\n",
       "      <td>5.790000</td>\n",
       "      <td>73.64</td>\n",
       "      <td>73.235162</td>\n",
       "    </tr>\n",
       "    <tr>\n",
       "      <th>17</th>\n",
       "      <td>7.190000</td>\n",
       "      <td>77.63</td>\n",
       "      <td>78.745168</td>\n",
       "    </tr>\n",
       "    <tr>\n",
       "      <th>18</th>\n",
       "      <td>6.380000</td>\n",
       "      <td>77.01</td>\n",
       "      <td>75.557236</td>\n",
       "    </tr>\n",
       "    <tr>\n",
       "      <th>19</th>\n",
       "      <td>8.190000</td>\n",
       "      <td>83.08</td>\n",
       "      <td>82.680886</td>\n",
       "    </tr>\n",
       "    <tr>\n",
       "      <th>20</th>\n",
       "      <td>6.660000</td>\n",
       "      <td>76.63</td>\n",
       "      <td>76.659237</td>\n",
       "    </tr>\n",
       "    <tr>\n",
       "      <th>21</th>\n",
       "      <td>5.090000</td>\n",
       "      <td>72.22</td>\n",
       "      <td>70.480160</td>\n",
       "    </tr>\n",
       "    <tr>\n",
       "      <th>22</th>\n",
       "      <td>6.180000</td>\n",
       "      <td>72.96</td>\n",
       "      <td>74.770092</td>\n",
       "    </tr>\n",
       "    <tr>\n",
       "      <th>23</th>\n",
       "      <td>6.995949</td>\n",
       "      <td>76.14</td>\n",
       "      <td>77.981436</td>\n",
       "    </tr>\n",
       "    <tr>\n",
       "      <th>24</th>\n",
       "      <td>8.930000</td>\n",
       "      <td>85.96</td>\n",
       "      <td>85.593317</td>\n",
       "    </tr>\n",
       "    <tr>\n",
       "      <th>25</th>\n",
       "      <td>8.160000</td>\n",
       "      <td>83.36</td>\n",
       "      <td>82.562814</td>\n",
       "    </tr>\n",
       "    <tr>\n",
       "      <th>26</th>\n",
       "      <td>6.600000</td>\n",
       "      <td>78.05</td>\n",
       "      <td>76.423094</td>\n",
       "    </tr>\n",
       "    <tr>\n",
       "      <th>27</th>\n",
       "      <td>8.790000</td>\n",
       "      <td>84.60</td>\n",
       "      <td>85.042316</td>\n",
       "    </tr>\n",
       "    <tr>\n",
       "      <th>28</th>\n",
       "      <td>7.100000</td>\n",
       "      <td>76.76</td>\n",
       "      <td>78.390953</td>\n",
       "    </tr>\n",
       "    <tr>\n",
       "      <th>29</th>\n",
       "      <td>7.860000</td>\n",
       "      <td>81.24</td>\n",
       "      <td>81.382099</td>\n",
       "    </tr>\n",
       "    <tr>\n",
       "      <th>30</th>\n",
       "      <td>7.950000</td>\n",
       "      <td>80.86</td>\n",
       "      <td>81.736313</td>\n",
       "    </tr>\n",
       "    <tr>\n",
       "      <th>31</th>\n",
       "      <td>8.310000</td>\n",
       "      <td>82.69</td>\n",
       "      <td>83.153172</td>\n",
       "    </tr>\n",
       "    <tr>\n",
       "      <th>32</th>\n",
       "      <td>8.070000</td>\n",
       "      <td>82.30</td>\n",
       "      <td>82.208599</td>\n",
       "    </tr>\n",
       "    <tr>\n",
       "      <th>33</th>\n",
       "      <td>7.790000</td>\n",
       "      <td>79.17</td>\n",
       "      <td>81.106598</td>\n",
       "    </tr>\n",
       "    <tr>\n",
       "      <th>34</th>\n",
       "      <td>5.880000</td>\n",
       "      <td>73.34</td>\n",
       "      <td>73.589377</td>\n",
       "    </tr>\n",
       "    <tr>\n",
       "      <th>35</th>\n",
       "      <td>5.260000</td>\n",
       "      <td>71.86</td>\n",
       "      <td>71.149232</td>\n",
       "    </tr>\n",
       "    <tr>\n",
       "      <th>36</th>\n",
       "      <td>5.450000</td>\n",
       "      <td>70.06</td>\n",
       "      <td>71.897018</td>\n",
       "    </tr>\n",
       "    <tr>\n",
       "      <th>37</th>\n",
       "      <td>7.900000</td>\n",
       "      <td>80.76</td>\n",
       "      <td>81.539527</td>\n",
       "    </tr>\n",
       "    <tr>\n",
       "      <th>38</th>\n",
       "      <td>5.630000</td>\n",
       "      <td>72.87</td>\n",
       "      <td>72.605447</td>\n",
       "    </tr>\n",
       "    <tr>\n",
       "      <th>39</th>\n",
       "      <td>5.460000</td>\n",
       "      <td>71.10</td>\n",
       "      <td>71.936375</td>\n",
       "    </tr>\n",
       "  </tbody>\n",
       "</table>\n",
       "</div>"
      ],
      "text/plain": [
       "    study_hours  student_marks_original  student_marks_predicted\n",
       "0      8.300000                   82.02                83.113815\n",
       "1      7.230000                   77.55                78.902596\n",
       "2      8.670000                   84.19                84.570030\n",
       "3      8.990000                   85.46                85.829460\n",
       "4      8.710000                   84.03                84.727459\n",
       "5      7.700000                   80.81                80.752384\n",
       "6      5.690000                   73.61                72.841591\n",
       "7      5.390000                   70.90                71.660875\n",
       "8      5.790000                   73.14                73.235162\n",
       "9      5.390000                   73.02                71.660875\n",
       "10     5.850000                   75.02                73.471305\n",
       "11     6.590000                   75.37                76.383737\n",
       "12     5.790000                   74.44                73.235162\n",
       "13     5.880000                   73.40                73.589377\n",
       "14     8.260000                   81.70                82.956386\n",
       "15     5.070000                   69.27                70.401445\n",
       "16     5.790000                   73.64                73.235162\n",
       "17     7.190000                   77.63                78.745168\n",
       "18     6.380000                   77.01                75.557236\n",
       "19     8.190000                   83.08                82.680886\n",
       "20     6.660000                   76.63                76.659237\n",
       "21     5.090000                   72.22                70.480160\n",
       "22     6.180000                   72.96                74.770092\n",
       "23     6.995949                   76.14                77.981436\n",
       "24     8.930000                   85.96                85.593317\n",
       "25     8.160000                   83.36                82.562814\n",
       "26     6.600000                   78.05                76.423094\n",
       "27     8.790000                   84.60                85.042316\n",
       "28     7.100000                   76.76                78.390953\n",
       "29     7.860000                   81.24                81.382099\n",
       "30     7.950000                   80.86                81.736313\n",
       "31     8.310000                   82.69                83.153172\n",
       "32     8.070000                   82.30                82.208599\n",
       "33     7.790000                   79.17                81.106598\n",
       "34     5.880000                   73.34                73.589377\n",
       "35     5.260000                   71.86                71.149232\n",
       "36     5.450000                   70.06                71.897018\n",
       "37     7.900000                   80.76                81.539527\n",
       "38     5.630000                   72.87                72.605447\n",
       "39     5.460000                   71.10                71.936375"
      ]
     },
     "execution_count": 26,
     "metadata": {},
     "output_type": "execute_result"
    }
   ],
   "source": [
    "pd.DataFrame(np.c_[X_test, y_test, y_pred], columns = [\"study_hours\", \"student_marks_original\",\"student_marks_predicted\"])"
   ]
  },
  {
   "cell_type": "markdown",
   "metadata": {
    "colab_type": "text",
    "id": "7yBuh2QdlcYD"
   },
   "source": [
    "## Fine-tune your model"
   ]
  },
  {
   "cell_type": "code",
   "execution_count": 27,
   "metadata": {
    "colab": {
     "base_uri": "https://localhost:8080/",
     "height": 35
    },
    "colab_type": "code",
    "executionInfo": {
     "elapsed": 4098,
     "status": "ok",
     "timestamp": 1591639760576,
     "user": {
      "displayName": "Indian AI Production",
      "photoUrl": "https://lh3.googleusercontent.com/a-/AOh14Gj3ZvzF_5wYrhSUbb_fejZZI0SOJB4k_MnwL_ZT=s64",
      "userId": "18422374217311601843"
     },
     "user_tz": -330
    },
    "id": "GTMEk4FFkzio",
    "outputId": "7982480c-61f3-470e-a666-f345bb5b5392"
   },
   "outputs": [
    {
     "data": {
      "text/plain": [
       "0.9514124242154464"
      ]
     },
     "execution_count": 27,
     "metadata": {},
     "output_type": "execute_result"
    }
   ],
   "source": [
    "lr.score(X_test,y_test)"
   ]
  },
  {
   "cell_type": "code",
   "execution_count": 28,
   "metadata": {
    "colab": {
     "base_uri": "https://localhost:8080/",
     "height": 283
    },
    "colab_type": "code",
    "executionInfo": {
     "elapsed": 4064,
     "status": "ok",
     "timestamp": 1591639760577,
     "user": {
      "displayName": "Indian AI Production",
      "photoUrl": "https://lh3.googleusercontent.com/a-/AOh14Gj3ZvzF_5wYrhSUbb_fejZZI0SOJB4k_MnwL_ZT=s64",
      "userId": "18422374217311601843"
     },
     "user_tz": -330
    },
    "id": "Ifif1n_ilret",
    "outputId": "ff966073-0b25-457c-e6ac-315031f2cf45"
   },
   "outputs": [
    {
     "data": {
      "text/plain": [
       "<matplotlib.collections.PathCollection at 0x10c21a6b0b8>"
      ]
     },
     "execution_count": 28,
     "metadata": {},
     "output_type": "execute_result"
    },
    {
     "data": {
      "image/png": "[encoded data removed]",
      "text/plain": [
       "<Figure size 432x288 with 1 Axes>"
      ]
     },
     "metadata": {
      "needs_background": "light"
     },
     "output_type": "display_data"
    }
   ],
   "source": [
    "plt.scatter(X_train,y_train)"
   ]
  },
  {
   "cell_type": "code",
   "execution_count": 29,
   "metadata": {
    "colab": {
     "base_uri": "https://localhost:8080/",
     "height": 283
    },
    "colab_type": "code",
    "executionInfo": {
     "elapsed": 4018,
     "status": "ok",
     "timestamp": 1591639760578,
     "user": {
      "displayName": "Indian AI Production",
      "photoUrl": "https://lh3.googleusercontent.com/a-/AOh14Gj3ZvzF_5wYrhSUbb_fejZZI0SOJB4k_MnwL_ZT=s64",
      "userId": "18422374217311601843"
     },
     "user_tz": -330
    },
    "id": "QN9K4kgemIDu",
    "outputId": "6b316655-9455-472e-a07a-be773f126a3b"
   },
   "outputs": [
    {
     "data": {
      "text/plain": [
       "[<matplotlib.lines.Line2D at 0x10c1f563fd0>]"
      ]
     },
     "execution_count": 29,
     "metadata": {},
     "output_type": "execute_result"
    },
    {
     "data": {
      "image/png": "[encoded data removed]",
      "text/plain": [
       "<Figure size 432x288 with 1 Axes>"
      ]
     },
     "metadata": {
      "needs_background": "light"
     },
     "output_type": "display_data"
    }
   ],
   "source": [
    "plt.scatter(X_test, y_test)\n",
    "plt.plot(X_train, lr.predict(X_train), color = \"r\")"
   ]
  },
  {
   "cell_type": "markdown",
   "metadata": {
    "colab_type": "text",
    "id": "IRwAauQPm9z6"
   },
   "source": [
    "## Present your solution"
   ]
  },
  {
   "cell_type": "markdown",
   "metadata": {
    "colab_type": "text",
    "id": "SKZJiESTneTA"
   },
   "source": [
    "## Save Ml Model"
   ]
  },
  {
   "cell_type": "code",
   "execution_count": 30,
   "metadata": {
    "colab": {
     "base_uri": "https://localhost:8080/",
     "height": 35
    },
    "colab_type": "code",
    "executionInfo": {
     "elapsed": 4460,
     "status": "ok",
     "timestamp": 1591639761049,
     "user": {
      "displayName": "Indian AI Production",
      "photoUrl": "https://lh3.googleusercontent.com/a-/AOh14Gj3ZvzF_5wYrhSUbb_fejZZI0SOJB4k_MnwL_ZT=s64",
      "userId": "18422374217311601843"
     },
     "user_tz": -330
    },
    "id": "n9SfRDmTmleb",
    "outputId": "e4238a5f-a3e3-49cc-d946-260a4fc2397b"
   },
   "outputs": [
    {
     "data": {
      "text/plain": [
       "['student_mark_predictor.pkl']"
      ]
     },
     "execution_count": 30,
     "metadata": {},
     "output_type": "execute_result"
    }
   ],
   "source": [
    "import joblib\n",
    "joblib.dump(lr, \"student_mark_predictor.pkl\")"
   ]
  },
  {
   "cell_type": "code",
   "execution_count": 31,
   "metadata": {
    "colab": {},
    "colab_type": "code",
    "id": "zhlze0QHn9Qy"
   },
   "outputs": [],
   "source": [
    "model = joblib.load(\"student_mark_predictor.pkl\")"
   ]
  },
  {
   "cell_type": "code",
   "execution_count": 32,
   "metadata": {
    "colab": {
     "base_uri": "https://localhost:8080/",
     "height": 35
    },
    "colab_type": "code",
    "executionInfo": {
     "elapsed": 4441,
     "status": "ok",
     "timestamp": 1591639761056,
     "user": {
      "displayName": "Indian AI Production",
      "photoUrl": "https://lh3.googleusercontent.com/a-/AOh14Gj3ZvzF_5wYrhSUbb_fejZZI0SOJB4k_MnwL_ZT=s64",
      "userId": "18422374217311601843"
     },
     "user_tz": -330
    },
    "id": "m9NbLYmcol2k",
    "outputId": "21bfa31e-91a5-4de1-a4f2-d85b7cfbe963"
   },
   "outputs": [
    {
     "data": {
      "text/plain": [
       "70.12594512018406"
      ]
     },
     "execution_count": 32,
     "metadata": {},
     "output_type": "execute_result"
    }
   ],
   "source": [
    "model.predict([[5]])[0][0]"
   ]
  }
 ],
 "metadata": {
  "colab": {
   "authorship_tag": "ABX9TyN3uqBtvO6WMBAk26OFqjBU",
   "collapsed_sections": [],
   "name": "students_mark_predictor.ipynb",
   "provenance": []
  },
  "kernelspec": {
   "display_name": "Python 3",
   "language": "python",
   "name": "python3"
  },
  "language_info": {
   "codemirror_mode": {
    "name": "ipython",
    "version": 3
   },
   "file_extension": ".py",
   "mimetype": "text/x-python",
   "name": "python",
   "nbconvert_exporter": "python",
   "pygments_lexer": "ipython3",
   "version": "3.7.3"
  }
 },
 "nbformat": 4,
 "nbformat_minor": 1
}
